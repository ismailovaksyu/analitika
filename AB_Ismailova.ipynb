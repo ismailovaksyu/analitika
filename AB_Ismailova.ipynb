{
 "cells": [
  {
   "cell_type": "markdown",
   "id": "03d4f9bc",
   "metadata": {},
   "source": [
    "##Задание по теме 2.3.2\n",
    "В этом задании вам необходимо использовать набор данных ad.csv.\n",
    "1) Датасет содежит 2 столбца: объявление (A/B) и действие (0/1).\n",
    "2) Вам необходимо сформулировать гипотезу, провести ее проверку (пользуясь\n",
    "классическим подходом) и ответить на вопрос какое из объявлений лучше.\n",
    "Результаты загрузить в робокод в виде короткого отчета (до 1 стр."
   ]
  },
  {
   "cell_type": "code",
   "execution_count": 3,
   "id": "48cd14f7",
   "metadata": {},
   "outputs": [],
   "source": [
    "import numpy as np\n",
    "import pandas as pd\n",
    "from scipy import stats"
   ]
  },
  {
   "cell_type": "code",
   "execution_count": 4,
   "id": "18cb9c13",
   "metadata": {},
   "outputs": [],
   "source": [
    "df = pd.read_csv('./ad.csv')"
   ]
  },
  {
   "cell_type": "code",
   "execution_count": 6,
   "id": "72eb4dc0",
   "metadata": {},
   "outputs": [
    {
     "name": "stdout",
     "output_type": "stream",
     "text": [
      "action    0    1\n",
      "ad_id           \n",
      "A       696  304\n",
      "B       628  372\n"
     ]
    }
   ],
   "source": [
    "#Считаем частоту появления данных, используем crosstab-перекрестная таблица (столбцы)\n",
    "\n",
    "cros_tb=pd.crosstab(df['ad_id'], df['action'])\n",
    "print(cros_tb)"
   ]
  },
  {
   "cell_type": "code",
   "execution_count": 7,
   "id": "d873f497",
   "metadata": {},
   "outputs": [
    {
     "name": "stdout",
     "output_type": "stream",
     "text": [
      "N1= 1000 , N2= 1000\n"
     ]
    }
   ],
   "source": [
    "#Смотрим количество (size-размер) наших данных\n",
    "N1=df.action[df.ad_id=='A'].size\n",
    "N2=df.action[df.ad_id=='B'].size\n",
    "print('N1=',N1,  ',', 'N2=', N2)"
   ]
  },
  {
   "cell_type": "code",
   "execution_count": 8,
   "id": "402b37e5",
   "metadata": {},
   "outputs": [
    {
     "name": "stdout",
     "output_type": "stream",
     "text": [
      "p1= 0.304 , p2= 0.372\n",
      "alpha= 0.05\n"
     ]
    }
   ],
   "source": [
    "#Расчитываем входные данные для дальнейшего расчета, где p-уровень значимости, alpha-порог значения p\n",
    "p1 = cros_tb.iloc[0,1]/N1\n",
    "p2 = cros_tb.iloc[1,1]/N2\n",
    "print('p1=',p1,',','p2=', p2)\n",
    "alpha=0.05\n",
    "print('alpha=', alpha)"
   ]
  },
  {
   "cell_type": "markdown",
   "id": "d14b5530",
   "metadata": {},
   "source": [
    "#Формулируем гипотезы.\n",
    "#Допустим у нас есть объявления с рекламой в интернете А и В, есть два действия 1 - просмотр объявления, 0 - просмотра нет. \n",
    "#H0:  различия в выборках статистически незначимы (по количеству кликов объявления)\n",
    "#H1:различия в выборках статистически значимы (по количеству кликов объявления)\n",
    "#Проверяем по t-критерию"
   ]
  },
  {
   "cell_type": "code",
   "execution_count": 15,
   "id": "28468267",
   "metadata": {},
   "outputs": [
    {
     "name": "stdout",
     "output_type": "stream",
     "text": [
      "Значение t-статистики= -3.2211732138019786 Значение p-уровня значимости= 0.0006486205187000816\n",
      "Принимаем гипотезу:\n",
      "H1, т.к. p<alpha\n"
     ]
    }
   ],
   "source": [
    "stat, pv =stats.ttest_ind(\n",
    "    df[df.ad_id=='A'].action.values,   \n",
    "    df[df.ad_id=='B'].action.values, equal_var=False, alternative='less') #т.к. А меньше В, то alternative='less'\n",
    "print('Значение t-статистики=', stat, 'Значение p-уровня значимости=', pv)\n",
    "print('Принимаем гипотезу:')\n",
    "if pv>alpha:\n",
    "      print('H0,','т.к. p>alpha')\n",
    "else:\n",
    "      print('H1,','т.к. p<alpha')\n"
   ]
  },
  {
   "cell_type": "markdown",
   "id": "ed52f8ea",
   "metadata": {},
   "source": [
    "Можно сделать вывод, что объявление B лучше"
   ]
  },
  {
   "cell_type": "code",
   "execution_count": null,
   "id": "a2f1dbcb",
   "metadata": {},
   "outputs": [],
   "source": []
  }
 ],
 "metadata": {
  "kernelspec": {
   "display_name": "Python 3 (ipykernel)",
   "language": "python",
   "name": "python3"
  },
  "language_info": {
   "codemirror_mode": {
    "name": "ipython",
    "version": 3
   },
   "file_extension": ".py",
   "mimetype": "text/x-python",
   "name": "python",
   "nbconvert_exporter": "python",
   "pygments_lexer": "ipython3",
   "version": "3.9.7"
  }
 },
 "nbformat": 4,
 "nbformat_minor": 5
}
